{
 "cells": [
  {
   "cell_type": "markdown",
   "metadata": {},
   "source": [
    "**Code for constructing networks from brain fMRI data  \n",
    "Author: Jithin K. Sreedharan**"
   ]
  },
  {
   "cell_type": "code",
   "execution_count": null,
   "metadata": {},
   "outputs": [],
   "source": [
    "%matplotlib inline"
   ]
  },
  {
   "cell_type": "code",
   "execution_count": null,
   "metadata": {},
   "outputs": [],
   "source": [
    "import pandas as pd\n",
    "import numpy as np\n",
    "import matplotlib.pyplot as plt\n",
    "import networkx as nx\n",
    "import scipy.io as sio\n",
    "import os"
   ]
  },
  {
   "cell_type": "markdown",
   "metadata": {},
   "source": [
    "# Minimum spanning tree technique"
   ]
  },
  {
   "cell_type": "code",
   "execution_count": null,
   "metadata": {
    "scrolled": true
   },
   "outputs": [],
   "source": [
    "i_graph_name = 0\n",
    "cor_mat_folder = 'cortex/data_mat/' # Change it accordingly\n",
    "output_folder = 'cortex/graphs_spanningtree_180/'\n",
    "for file_temp in os.listdir(cor_mat_folder):\n",
    "    file_temp = cor_mat_folder+file_temp\n",
    "    dict_temp = sio.loadmat(file_temp)\n",
    "    mat_temp = dict_temp['corr_mat']\n",
    "    mat_temp = mat_temp[:180,:180]\n",
    "    mat_temp = np.absolute(mat_temp)\n",
    "\n",
    "    if mat_temp.shape != (180,180):\n",
    "        raise ValueError('Dimension of '+file_temp+' is not (180,180)')\n",
    "    H = nx.Graph()\n",
    "    # 10-nearest neighbors (higher correlation values) of each node in G are added into H.\n",
    "    for i in range(180):\n",
    "        ind_temp = np.argsort(-mat_temp[i,:])[:10]\n",
    "        edges_temp = [(i,ii) for ii in ind_temp]\n",
    "        H.add_edges_from(edges_temp)\n",
    "    L_0 = nx.from_numpy_array(mat_temp)\n",
    "    L = nx.minimum_spanning_tree(L_0,weight = 'weight')\n",
    "    # Combine G and H: Union of nodesets and edgesets of G and H\n",
    "    G = nx.compose(H,L)\n",
    "    # Relabel the nodes IDs to start from 1 instead of 0. \n",
    "    # This is to match the parcel index in Glasser et al. paper to identify the associated brain region\n",
    "    mapping = {old_label:old_label+1 for old_label in G.nodes()}\n",
    "    G = nx.relabel_nodes(G, mapping)\n",
    "    if nx.is_connected(G) == 0:\n",
    "        print(\"not connected, something wrong!\")\n",
    "        break     \n",
    "    graph_file_name = output_folder+'graph_connectome_' + str(i_graph_name)+'.txt'\n",
    "    nx.write_edgelist(G,graph_file_name,data= False)\n",
    "    density_graph = 2*G.number_of_edges()/(180*180)\n",
    "    print(\"density(G): {0} \".format(density_graph))\n",
    "    i_graph_name = i_graph_name+1\n",
    "    H.clear()\n",
    "    L_0.clear()\n",
    "    L.clear()\n",
    "    G.clear()"
   ]
  },
  {
   "cell_type": "markdown",
   "metadata": {},
   "source": [
    "# Threshold technique"
   ]
  },
  {
   "cell_type": "code",
   "execution_count": null,
   "metadata": {
    "scrolled": true
   },
   "outputs": [],
   "source": [
    "i = 0\n",
    "cor_mat_folder = 'cortex/data_mat/' # Change it accordingly\n",
    "output_folder = 'cortex/graphs_threshold_180/'\n",
    "for file_temp in os.listdir(cor_mat_folder):\n",
    "    file_temp = cor_mat_folder+file_temp\n",
    "    dict_temp = sio.loadmat(file_temp)\n",
    "    mat_temp = dict_temp['corr_mat']\n",
    "    mat_temp = mat_temp[:180,:180]\n",
    "    mat_temp = np.absolute(mat_temp)\n",
    "\n",
    "    if mat_temp.shape != (180,180):\n",
    "        raise ValueError('Dimension of '+file_temp+' is not (180,180)')\n",
    "    \n",
    "    for perc_temp in np.arange(99,40,-2):\n",
    "        perc_val = np.percentile(mat_temp,perc_temp)\n",
    "        temp_mat = (mat_temp > perc_val).astype(int)\n",
    "        np.fill_diagonal(temp_mat,0)\n",
    "        G = nx.from_numpy_array(temp_mat)\n",
    "        if nx.is_connected(G):\n",
    "            break\n",
    "    # Relabel the nodes IDs to start from 1 instead of 0. \n",
    "    # This is to match the parcel index in Glasser et al. paper to identify the associated brain region\n",
    "    mapping = {old_label:old_label+1 for old_label in G.nodes()}\n",
    "    G = nx.relabel_nodes(G, mapping)\n",
    "    graph_file_name = output_folder + 'graph_connectome_' + str(i)+'.txt'\n",
    "    nx.write_edgelist(G,graph_file_name,data= False)\n",
    "    density_graph = 2*G.number_of_edges()/(360*360)\n",
    "    print(\"perc_temp: {0}, perc_val: {1}, density(G): {2} \".format(perc_temp,perc_val,density_graph))\n",
    "    i = i+1"
   ]
  }
 ],
 "metadata": {
  "kernelspec": {
   "display_name": "Python [default]",
   "language": "python",
   "name": "python3"
  },
  "language_info": {
   "codemirror_mode": {
    "name": "ipython",
    "version": 3
   },
   "file_extension": ".py",
   "mimetype": "text/x-python",
   "name": "python",
   "nbconvert_exporter": "python",
   "pygments_lexer": "ipython3",
   "version": "3.5.6"
  },
  "toc": {
   "base_numbering": 1,
   "nav_menu": {},
   "number_sections": true,
   "sideBar": true,
   "skip_h1_title": false,
   "title_cell": "Table of Contents",
   "title_sidebar": "Contents",
   "toc_cell": false,
   "toc_position": {},
   "toc_section_display": true,
   "toc_window_display": false
  }
 },
 "nbformat": 4,
 "nbformat_minor": 2
}
